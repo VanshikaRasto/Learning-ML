{
 "cells": [
  {
   "cell_type": "markdown",
   "id": "3c9d887b",
   "metadata": {},
   "source": [
    "# BASIC SYNTAX OF A FUNCTION\n"
   ]
  },
  {
   "cell_type": "markdown",
   "id": "43f33a4d",
   "metadata": {},
   "source": [
    "1 FUNCTION DEFINITION\n",
    "2 FUNCTION CALING\n",
    "3 USSE OF RETURN\n",
    "4 PASSING ARGUMENTS\n",
    "5 EXAMPLE\n",
    "6 ADDING ARGUMENTS\n",
    "7 KEYWORD ARBITRARY ARGUMENTS"
   ]
  },
  {
   "cell_type": "code",
   "execution_count": 1,
   "id": "c420322b",
   "metadata": {},
   "outputs": [],
   "source": [
    "# def function_name(arg1,arg2):"
   ]
  },
  {
   "cell_type": "code",
   "execution_count": 2,
   "id": "96f49cff",
   "metadata": {},
   "outputs": [
    {
     "name": "stdout",
     "output_type": "stream",
     "text": [
      "25\n"
     ]
    }
   ],
   "source": [
    "def add(a,b):\n",
    "    print(a+b)\n",
    "add(12,13)"
   ]
  },
  {
   "cell_type": "code",
   "execution_count": 3,
   "id": "74af2bbd",
   "metadata": {},
   "outputs": [],
   "source": [
    "#function using return"
   ]
  },
  {
   "cell_type": "code",
   "execution_count": 4,
   "id": "66effc3d",
   "metadata": {},
   "outputs": [],
   "source": [
    "def add3(a,b):             # fxn defined\n",
    "    c=a+b                  # fxn called\n",
    "    print(c)"
   ]
  },
  {
   "cell_type": "code",
   "execution_count": 5,
   "id": "c03f6239",
   "metadata": {},
   "outputs": [
    {
     "name": "stdout",
     "output_type": "stream",
     "text": [
      "suyashhimanshu\n"
     ]
    }
   ],
   "source": [
    "add3(\"suyash\",\"himanshu\")"
   ]
  },
  {
   "cell_type": "code",
   "execution_count": 6,
   "id": "adec7bc1",
   "metadata": {},
   "outputs": [
    {
     "data": {
      "text/plain": [
       "10"
      ]
     },
     "execution_count": 6,
     "metadata": {},
     "output_type": "execute_result"
    }
   ],
   "source": [
    "c=10\n",
    "c"
   ]
  },
  {
   "cell_type": "code",
   "execution_count": 7,
   "id": "9b787917",
   "metadata": {},
   "outputs": [],
   "source": [
    "c=10\n",
    "def add4(a,b):\n",
    "    c=9\n"
   ]
  },
  {
   "cell_type": "code",
   "execution_count": 8,
   "id": "9cce588d",
   "metadata": {},
   "outputs": [
    {
     "name": "stdout",
     "output_type": "stream",
     "text": [
      "3\n",
      "10\n"
     ]
    }
   ],
   "source": [
    "add(1,2)\n",
    "print(c)"
   ]
  },
  {
   "cell_type": "code",
   "execution_count": 9,
   "id": "a8539222",
   "metadata": {},
   "outputs": [
    {
     "ename": "IndentationError",
     "evalue": "expected an indented block (1969700907.py, line 3)",
     "output_type": "error",
     "traceback": [
      "\u001b[1;36m  File \u001b[1;32m\"C:\\Users\\Hp\\AppData\\Local\\Temp\\ipykernel_2708\\1969700907.py\"\u001b[1;36m, line \u001b[1;32m3\u001b[0m\n\u001b[1;33m    for i in range(2,i):\u001b[0m\n\u001b[1;37m    ^\u001b[0m\n\u001b[1;31mIndentationError\u001b[0m\u001b[1;31m:\u001b[0m expected an indented block\n"
     ]
    }
   ],
   "source": [
    "# Function to check whether a no. is prime or not\n",
    "def prime(i):                                     #intendation error\n",
    "for i in range(2,i):\n",
    "if (i%2==0):\n",
    "    print(\"i is a not a prime number\")\n",
    "else:\n",
    "    print(\"i is not a prime number\")"
   ]
  },
  {
   "cell_type": "code",
   "execution_count": 27,
   "id": "d7b31911",
   "metadata": {},
   "outputs": [],
   "source": [
    "def prime(n):\n",
    "    c=0\n",
    "    for i in range(2,n):\n",
    "        if n%i==0:\n",
    "            return 0\n",
    "            c=1\n",
    "            break\n",
    "    if (c==0):\n",
    "        return 1\n"
   ]
  },
  {
   "cell_type": "code",
   "execution_count": 28,
   "id": "a774271c",
   "metadata": {},
   "outputs": [
    {
     "data": {
      "text/plain": [
       "1"
      ]
     },
     "execution_count": 28,
     "metadata": {},
     "output_type": "execute_result"
    }
   ],
   "source": [
    "prime(23)"
   ]
  },
  {
   "cell_type": "code",
   "execution_count": 29,
   "id": "d44dee87",
   "metadata": {},
   "outputs": [
    {
     "name": "stdout",
     "output_type": "stream",
     "text": [
      "1\n",
      "2\n",
      "3\n",
      "5\n",
      "7\n",
      "11\n",
      "13\n",
      "17\n",
      "19\n",
      "23\n",
      "29\n",
      "31\n",
      "37\n",
      "41\n",
      "43\n",
      "47\n",
      "53\n",
      "59\n",
      "61\n",
      "67\n",
      "71\n",
      "73\n",
      "79\n",
      "83\n",
      "89\n",
      "97\n"
     ]
    }
   ],
   "source": [
    "#prime numbers between 1 to 100\n",
    "for i in range(1,101):\n",
    "    if prime(i)==1:\n",
    "        print(i)\n"
   ]
  },
  {
   "cell_type": "code",
   "execution_count": null,
   "id": "55fe4648",
   "metadata": {},
   "outputs": [],
   "source": []
  }
 ],
 "metadata": {
  "kernelspec": {
   "display_name": "Python 3 (ipykernel)",
   "language": "python",
   "name": "python3"
  },
  "language_info": {
   "codemirror_mode": {
    "name": "ipython",
    "version": 3
   },
   "file_extension": ".py",
   "mimetype": "text/x-python",
   "name": "python",
   "nbconvert_exporter": "python",
   "pygments_lexer": "ipython3",
   "version": "3.9.13"
  }
 },
 "nbformat": 4,
 "nbformat_minor": 5
}
