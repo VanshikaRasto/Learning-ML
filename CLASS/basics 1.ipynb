{
 "cells": [
  {
   "cell_type": "code",
   "execution_count": 3,
   "id": "69c7fb2c",
   "metadata": {},
   "outputs": [
    {
     "data": {
      "text/plain": [
       "int"
      ]
     },
     "execution_count": 3,
     "metadata": {},
     "output_type": "execute_result"
    }
   ],
   "source": [
    "#data types\n",
    "#int\n",
    "type(7)\n",
    "int\n",
    "\n"
   ]
  },
  {
   "cell_type": "code",
   "execution_count": 4,
   "id": "aab0f82e",
   "metadata": {},
   "outputs": [
    {
     "name": "stdout",
     "output_type": "stream",
     "text": [
      "hello world\n"
     ]
    }
   ],
   "source": [
    "print(\"hello world\")"
   ]
  },
  {
   "cell_type": "code",
   "execution_count": 7,
   "id": "189feec3",
   "metadata": {},
   "outputs": [
    {
     "data": {
      "text/plain": [
       "str"
      ]
     },
     "execution_count": 7,
     "metadata": {},
     "output_type": "execute_result"
    }
   ],
   "source": [
    "type('vanshika')"
   ]
  },
  {
   "cell_type": "code",
   "execution_count": 10,
   "id": "813578a8",
   "metadata": {},
   "outputs": [
    {
     "data": {
      "text/plain": [
       "bool"
      ]
     },
     "execution_count": 10,
     "metadata": {},
     "output_type": "execute_result"
    }
   ],
   "source": [
    "type(True)"
   ]
  },
  {
   "cell_type": "code",
   "execution_count": 11,
   "id": "00e1c53c",
   "metadata": {},
   "outputs": [
    {
     "data": {
      "text/plain": [
       "complex"
      ]
     },
     "execution_count": 11,
     "metadata": {},
     "output_type": "execute_result"
    }
   ],
   "source": [
    "type(5+9j)"
   ]
  },
  {
   "cell_type": "code",
   "execution_count": 12,
   "id": "f07763fc",
   "metadata": {},
   "outputs": [
    {
     "ename": "SyntaxError",
     "evalue": "invalid syntax (2344502668.py, line 1)",
     "output_type": "error",
     "traceback": [
      "\u001b[1;36m  File \u001b[1;32m\"C:\\Users\\Hp\\AppData\\Local\\Temp\\ipykernel_16440\\2344502668.py\"\u001b[1;36m, line \u001b[1;32m1\u001b[0m\n\u001b[1;33m    type(8-8i)\u001b[0m\n\u001b[1;37m            ^\u001b[0m\n\u001b[1;31mSyntaxError\u001b[0m\u001b[1;31m:\u001b[0m invalid syntax\n"
     ]
    }
   ],
   "source": [
    "type(8-8i)\n",
    "#for complex we dont use i instead we use j"
   ]
  },
  {
   "cell_type": "code",
   "execution_count": 13,
   "id": "961c47e4",
   "metadata": {},
   "outputs": [
    {
     "name": "stdout",
     "output_type": "stream",
     "text": [
      "(141+17j)\n"
     ]
    }
   ],
   "source": [
    "print((65+9j)+(76+8j))"
   ]
  },
  {
   "cell_type": "code",
   "execution_count": 16,
   "id": "28a7a2f6",
   "metadata": {},
   "outputs": [
    {
     "name": "stdout",
     "output_type": "stream",
     "text": [
      "10.857142857142858\n"
     ]
    }
   ],
   "source": [
    "#for normal division\n",
    "print(76/7)\n"
   ]
  },
  {
   "cell_type": "code",
   "execution_count": 18,
   "id": "3084adcc",
   "metadata": {},
   "outputs": [
    {
     "name": "stdout",
     "output_type": "stream",
     "text": [
      "8\n"
     ]
    }
   ],
   "source": [
    "#for float division\n",
    "print(76//9)"
   ]
  },
  {
   "cell_type": "code",
   "execution_count": 19,
   "id": "30855529",
   "metadata": {},
   "outputs": [
    {
     "name": "stdout",
     "output_type": "stream",
     "text": [
      "2\n"
     ]
    }
   ],
   "source": [
    "#modulo function(for remainder)\n",
    "print(37%7)"
   ]
  },
  {
   "cell_type": "code",
   "execution_count": 24,
   "id": "8fec6127",
   "metadata": {},
   "outputs": [
    {
     "data": {
      "text/plain": [
       "87"
      ]
     },
     "execution_count": 24,
     "metadata": {},
     "output_type": "execute_result"
    }
   ],
   "source": [
    "x=87\n",
    "x"
   ]
  },
  {
   "cell_type": "code",
   "execution_count": 26,
   "id": "4b33682c",
   "metadata": {},
   "outputs": [
    {
     "data": {
      "text/plain": [
       "int"
      ]
     },
     "execution_count": 26,
     "metadata": {},
     "output_type": "execute_result"
    }
   ],
   "source": [
    "type(x)"
   ]
  },
  {
   "cell_type": "code",
   "execution_count": 27,
   "id": "faf331b7",
   "metadata": {},
   "outputs": [
    {
     "data": {
      "text/plain": [
       "str"
      ]
     },
     "execution_count": 27,
     "metadata": {},
     "output_type": "execute_result"
    }
   ],
   "source": [
    "x='vanshika'     #anything within single or double quotes is a string\n",
    "type(x)"
   ]
  },
  {
   "cell_type": "code",
   "execution_count": 28,
   "id": "48988d46",
   "metadata": {},
   "outputs": [
    {
     "data": {
      "text/plain": [
       "'vanshika'"
      ]
     },
     "execution_count": 28,
     "metadata": {},
     "output_type": "execute_result"
    }
   ],
   "source": [
    "x"
   ]
  },
  {
   "cell_type": "code",
   "execution_count": 29,
   "id": "70f3967a",
   "metadata": {},
   "outputs": [
    {
     "name": "stdout",
     "output_type": "stream",
     "text": [
      "40.0\n"
     ]
    }
   ],
   "source": [
    "#type casting\n",
    "x=40\n",
    "print(float(x))"
   ]
  },
  {
   "cell_type": "code",
   "execution_count": 30,
   "id": "c70ba734",
   "metadata": {},
   "outputs": [
    {
     "name": "stdout",
     "output_type": "stream",
     "text": [
      "60\n",
      "60\n",
      "60.0\n",
      "True\n",
      "60\n"
     ]
    }
   ],
   "source": [
    "x=60\n",
    "print(int(x))\n",
    "print(x)                        #TYPE CASTING\n",
    "print(float(x))\n",
    "print(bool(x))                 # IN BOOLEAN IF VALUE IS 0 ONLY THEN ITS FALSE ELSE ITS ALWAYS TRUE        \n",
    "print(str(x))"
   ]
  },
  {
   "cell_type": "code",
   "execution_count": 31,
   "id": "6da2a5b3",
   "metadata": {},
   "outputs": [
    {
     "name": "stdout",
     "output_type": "stream",
     "text": [
      "False\n"
     ]
    }
   ],
   "source": [
    "print(bool(0))"
   ]
  },
  {
   "cell_type": "code",
   "execution_count": 35,
   "id": "f9ab9d24",
   "metadata": {},
   "outputs": [
    {
     "data": {
      "text/plain": [
       "bool"
      ]
     },
     "execution_count": 35,
     "metadata": {},
     "output_type": "execute_result"
    }
   ],
   "source": [
    "type(False)"
   ]
  },
  {
   "cell_type": "code",
   "execution_count": 2,
   "id": "e1fe60d9",
   "metadata": {},
   "outputs": [
    {
     "name": "stdout",
     "output_type": "stream",
     "text": [
      "x\n"
     ]
    },
    {
     "data": {
      "text/plain": [
       "str"
      ]
     },
     "execution_count": 2,
     "metadata": {},
     "output_type": "execute_result"
    }
   ],
   "source": [
    "x=str('x')\n",
    "print(x)\n",
    "type(x)"
   ]
  },
  {
   "cell_type": "code",
   "execution_count": 13,
   "id": "72a8fdfc",
   "metadata": {},
   "outputs": [
    {
     "name": "stdout",
     "output_type": "stream",
     "text": [
      "a is smaller than b\n",
      "artificial intelligence\n",
      "machine learning\n"
     ]
    }
   ],
   "source": [
    "a=23\n",
    "b=40\n",
    "if a<b:\n",
    "    print(\"a is smaller than b\")\n",
    "    print(\"artificial intelligence\")\n",
    "else:\n",
    "    print(\"a is greater than b\")\n",
    "print(\"machine learning\")\n"
   ]
  },
  {
   "cell_type": "markdown",
   "id": "638ba8a3",
   "metadata": {},
   "source": []
  },
  {
   "cell_type": "code",
   "execution_count": 14,
   "id": "23e3b6e1",
   "metadata": {},
   "outputs": [
    {
     "name": "stdout",
     "output_type": "stream",
     "text": [
      "more than 10\n",
      "above 10 but less than 100\n"
     ]
    }
   ],
   "source": [
    "if a>10:\n",
    "    print(\"more than 10\")                   #this statement is true only then rest 'll be executed\n",
    "    if a>100:\n",
    "        print(\"more than 100\")\n",
    "    else:\n",
    "        print(\"above 10 but less than 100\")"
   ]
  },
  {
   "cell_type": "code",
   "execution_count": null,
   "id": "be79f490",
   "metadata": {},
   "outputs": [],
   "source": []
  },
  {
   "cell_type": "code",
   "execution_count": null,
   "id": "8b3f1bb0",
   "metadata": {},
   "outputs": [],
   "source": [
    "x= input()\n",
    "print(type(x))\n",
    "if x==10:\n",
    "    print(\"equals to 10\")\n",
    "else:\n",
    "    print(\"not equals to 10\")"
   ]
  },
  {
   "cell_type": "code",
   "execution_count": null,
   "id": "d1a3af0f",
   "metadata": {},
   "outputs": [],
   "source": []
  }
 ],
 "metadata": {
  "kernelspec": {
   "display_name": "Python 3 (ipykernel)",
   "language": "python",
   "name": "python3"
  },
  "language_info": {
   "codemirror_mode": {
    "name": "ipython",
    "version": 3
   },
   "file_extension": ".py",
   "mimetype": "text/x-python",
   "name": "python",
   "nbconvert_exporter": "python",
   "pygments_lexer": "ipython3",
   "version": "3.9.13"
  }
 },
 "nbformat": 4,
 "nbformat_minor": 5
}
