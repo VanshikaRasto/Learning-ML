{
 "cells": [
  {
   "cell_type": "code",
   "execution_count": 1,
   "id": "af149fe2",
   "metadata": {},
   "outputs": [],
   "source": [
    "import numpy as np\n",
    "#searching an element\n",
    "def search(arr,n,s):                     #s is no to be searched\n",
    "    for i in range(n):\n",
    "        if(array[i]==s):\n",
    "            return i\n",
    "        return -1\n",
    "        "
   ]
  },
  {
   "cell_type": "code",
   "execution_count": 2,
   "id": "a9011851",
   "metadata": {},
   "outputs": [],
   "source": [
    "#finding largest element in an array\n",
    "def largest(arr,n):\n",
    "    max=arr[0]\n",
    "    for i in arr:\n",
    "        if i>max:\n",
    "            max=i\n",
    "    return max"
   ]
  },
  {
   "cell_type": "code",
   "execution_count": 4,
   "id": "490ab004",
   "metadata": {},
   "outputs": [],
   "source": [
    "#finding smallest no in an array\n",
    "def smallest(arr,n):\n",
    "    min=arr[0]\n",
    "    for i in arr:\n",
    "        if i<min:\n",
    "            min=i\n",
    "    return min"
   ]
  },
  {
   "cell_type": "code",
   "execution_count": 5,
   "id": "51c5797f",
   "metadata": {},
   "outputs": [],
   "source": [
    "# reversing an array\n",
    "def reverse(arr,n):\n",
    "    return arr[::-1]\n"
   ]
  },
  {
   "cell_type": "code",
   "execution_count": 6,
   "id": "fff7e466",
   "metadata": {},
   "outputs": [],
   "source": [
    "# rotating an array by kth position\n",
    "def rotate(arr,n,k):\n",
    "    k=k%n\n",
    "    for i in range(k):\n",
    "        t=arr[n-1]\n",
    "        for j in range(n-1,0,-1):\n",
    "            arr[j]=arr[j-1]\n",
    "            arr[0]=t\n",
    "    return arr"
   ]
  },
  {
   "cell_type": "code",
   "execution_count": null,
   "id": "e050c07b",
   "metadata": {},
   "outputs": [],
   "source": [
    "# initialise and input in an array\n"
   ]
  }
 ],
 "metadata": {
  "kernelspec": {
   "display_name": "Python 3 (ipykernel)",
   "language": "python",
   "name": "python3"
  },
  "language_info": {
   "codemirror_mode": {
    "name": "ipython",
    "version": 3
   },
   "file_extension": ".py",
   "mimetype": "text/x-python",
   "name": "python",
   "nbconvert_exporter": "python",
   "pygments_lexer": "ipython3",
   "version": "3.9.13"
  }
 },
 "nbformat": 4,
 "nbformat_minor": 5
}
